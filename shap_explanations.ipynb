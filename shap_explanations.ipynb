{
 "cells": [
  {
   "cell_type": "code",
   "execution_count": null,
   "metadata": {},
   "outputs": [],
   "source": [
    "import shap\n",
    "import yaml\n",
    "from SHAP_explanations import shap_explanations"
   ]
  },
  {
   "cell_type": "code",
   "execution_count": null,
   "metadata": {},
   "outputs": [],
   "source": [
    "config = yaml.safe_load(open(\"settings/config.yaml\"))\n",
    "dataset_names = list(config['datasets'].keys())"
   ]
  },
  {
   "cell_type": "code",
   "execution_count": null,
   "metadata": {},
   "outputs": [],
   "source": [
    "shap_values_of_models = shap_explanations(dataset_names)"
   ]
  },
  {
   "cell_type": "code",
   "execution_count": null,
   "metadata": {},
   "outputs": [],
   "source": [
    "selected_item_to_explain = 30\n",
    "\n",
    "global_min = 1\n",
    "global_max = 0\n",
    "\n",
    "for i,dataset_name in enumerate(dataset_names):\n",
    "    min_val = shap_values_of_models[i].base_values[selected_item_to_explain]\n",
    "    max_val = shap_values_of_models[i].base_values[selected_item_to_explain]\n",
    "    for elem in shap_values_of_models[i].values[selected_item_to_explain]:\n",
    "        if  elem < 0:\n",
    "            min_val = min_val + elem\n",
    "        else:\n",
    "            max_val = max_val + elem\n",
    "    global_min = min(min_val,global_min)\n",
    "    global_max = max(max_val,global_max)\n",
    "\n",
    "for i,dataset_name in enumerate(dataset_names):\n",
    "    #print(dataset_name)\n",
    "    shap.plots.text(shap_values_of_models[i][selected_item_to_explain],xmin=global_min-0.05,xmax=global_max+0.05)"
   ]
  }
 ],
 "metadata": {
  "language_info": {
   "name": "python"
  },
  "orig_nbformat": 4
 },
 "nbformat": 4,
 "nbformat_minor": 2
}
