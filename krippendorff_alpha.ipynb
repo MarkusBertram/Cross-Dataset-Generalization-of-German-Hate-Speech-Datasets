{
 "cells": [
  {
   "cell_type": "code",
   "execution_count": 1,
   "metadata": {},
   "outputs": [],
   "source": [
    "import pandas as pd\n",
    "import numpy as np\n",
    "import krippendorff\n",
    "import seaborn as sns\n",
    "import matplotlib.pyplot as plt\n",
    "import yaml\n",
    "import json\n",
    "import csv\n",
    "import sys\n",
    "import pandas as pd\n",
    "import matplotlib.pyplot as plt\n",
    "import seaborn as sns\n",
    "from time import gmtime, strftime\n",
    "from pathlib import Path\n",
    "from datetime import datetime\n",
    "sns.set_style(\"whitegrid\", {'axes.grid' : False, 'axes.linewidth':0})"
   ]
  },
  {
   "cell_type": "code",
   "execution_count": null,
   "metadata": {},
   "outputs": [],
   "source": [
    "data_path = \"data/iwg_hatespeech_public/german hatespeech refugees.csv\"\n",
    "data_df = pd.read_csv(data_path, usecols = [1,2])\n",
    "reliability_data = data_df.T.to_numpy(dtype = np.dtype('U'))\n",
    "print(\"Krippendorff's alpha for nominal metric: \", krippendorff.alpha(reliability_data=reliability_data, level_of_measurement = \"nominal\"))"
   ]
  },
  {
   "cell_type": "code",
   "execution_count": 21,
   "metadata": {},
   "outputs": [
    {
     "name": "stdout",
     "output_type": "stream",
     "text": [
      "{'annotator_1': 'NEUTRAL', 'annotator_2': 'NEUTRAL', 'annotator_3': 'NEUTRAL', 'annotator_4': 'NEUTRAL', 'annotator_5': 'NEUTRAL'}\n",
      "NEUTRAL\n"
     ]
    },
    {
     "ename": "SystemExit",
     "evalue": "0",
     "output_type": "error",
     "traceback": [
      "An exception has occurred, use %tb to see the full traceback.\n",
      "\u001b[0;31mSystemExit\u001b[0m\u001b[0;31m:\u001b[0m 0\n"
     ]
    },
    {
     "name": "stderr",
     "output_type": "stream",
     "text": [
      "/home/markus/.local/lib/python3.8/site-packages/IPython/core/interactiveshell.py:3406: UserWarning: To exit: use 'exit', 'quit', or Ctrl-D.\n",
      "  warn(\"To exit: use 'exit', 'quit', or Ctrl-D.\", stacklevel=1)\n"
     ]
    }
   ],
   "source": [
    "data_path = \"data/telegram_gold/annotated_dataset.txt\"\n",
    "with open(data_path, 'r') as f:\n",
    "    data_json = json.load(f)\n",
    "annotation_list = []\n",
    "gold_np = []\n",
    "for entry in data_json[\"messages\"]:\n",
    "    annotation_list.append(entry[\"raw_annotations\"])\n",
    "    gold_np.append(entry[\"gold_label\"])\n",
    "    \n",
    "mapping = {\"NEUTRAL\" : 0.0, \"OFFENSIVE_ABUSIVE\": 1.0, np.nan : np.nan}\n",
    "annotations_np = pd.DataFrame(annotation_list).T.values.tolist()\n",
    "annotations = []\n",
    "for i in range(len(annotations_np)):\n",
    "    annotator = []\n",
    "    for j in range(len(annotations_np[0])):\n",
    "        annotator.append(mapping[annotations_np[i][j]])\n",
    "    annotations.append(annotator)\n",
    "print(\"Krippendorff's alpha for nominal metric: \", krippendorff.alpha(reliability_data=annotations, level_of_measurement = \"nominal\"))\n",
    "\n",
    "gold = []\n",
    "for i in range(len(gold_np)):\n",
    "    gold.append(mapping[gold_np[i]])\n",
    "alphas = []\n",
    "for annotator in annotations:\n",
    "    to_compare = [annotator,gold]\n",
    "    alphas.append(krippendorff.alpha(reliability_data=to_compare, level_of_measurement='nominal'))\n",
    "alphas = sorted(alphas, reverse=True)\n",
    "alphas = alphas[:5]\n",
    "\n",
    "colors = sns.color_palette(\"Blues\")\n",
    "sns.set_style(\"whitegrid\", {'axes.grid' : False, 'axes.linewidth':0})\n",
    "\n",
    "fig = plt.figure(figsize=(8,4))\n",
    "ax = fig.add_subplot(111)\n",
    "ax = sns.barplot(x=list(range(len(alphas))), y=alphas, color=colors[3])\n",
    "ax.set(xlabel='Annotators', ylabel='Krippendorff\\'s alpha')\n",
    "line = ax.axhline(krippendorff.alpha(reliability_data=annotations,level_of_measurement='nominal'), color='black')\n",
    "\n",
    "now = datetime.now()\n",
    "import os\n",
    "path_fig = \"./results/\"+\"inter-rater_reliability_\"+now.strftime(\"%Y-%m-%d_%H-%M-%S\")+\"/\"\n",
    "if os.path.exists(path_fig) == False:\n",
    "        os.makedirs(path_fig)\n",
    "fig.savefig(path_fig + \"inter-rater-reliability.pdf\", bbox_inches='tight', dpi=300)\n",
    "fig.savefig(path_fig + \"inter-rater-reliability.png\", bbox_inches='tight', dpi=300)\n",
    "fig.savefig(path_fig + \"inter-rater-reliability.eps\", bbox_inches='tight', dpi=600)"
   ]
  },
  {
   "cell_type": "code",
   "execution_count": 2,
   "metadata": {},
   "outputs": [
    {
     "name": "stdout",
     "output_type": "stream",
     "text": [
      "Krippendorff's alpha for nominal metric:  0.9154446546830652\n"
     ]
    },
    {
     "data": {
      "image/png": "[encoded data removed]",
      "text/plain": [
       "<Figure size 576x288 with 1 Axes>"
      ]
     },
     "metadata": {
      "needs_background": "light"
     },
     "output_type": "display_data"
    }
   ],
   "source": [
    "data_path = \"data/covid_2021/covid_2021_dataset.csv\"\n",
    "data_df = pd.read_csv(data_path, sep = \"\\t\", header = 0)\n",
    "\n",
    "annotation_list = []\n",
    "gold_np = []\n",
    "\n",
    "for entry in data_df.itertuples():\n",
    "    entry_dict = {}\n",
    "    entry_dict[\"aid1\"] = entry.AID1\n",
    "    entry_dict[\"aid2\"] = entry.AID2\n",
    "    entry_dict[\"aid3\"] = entry.AID3\n",
    "    annotation_list.append(entry_dict)\n",
    "    gold_np.append(entry.label)\n",
    "mapping = {\"not\" : 0.0, \"indifferent\": np.nan, \"abusive\": 1.0, np.nan : np.nan}\n",
    "annotations_np = pd.DataFrame(annotation_list).T.values.tolist()\n",
    "annotations = []\n",
    "for i in range(len(annotations_np)):\n",
    "    annotator = []\n",
    "    for j in range(len(annotations_np[0])):\n",
    "        try:\n",
    "            annotator.append(mapping[annotations_np[i][j]])\n",
    "        except:\n",
    "            print(annotations_np[i][j])\n",
    "    annotations.append(annotator)\n",
    "print(\"Krippendorff's alpha for nominal metric: \", krippendorff.alpha(reliability_data=annotations, level_of_measurement = \"nominal\"))\n",
    "\n",
    "gold = []\n",
    "for i in range(len(gold_np)):\n",
    "    gold.append(mapping[gold_np[i]])\n",
    "alphas = []\n",
    "for annotator in annotations:\n",
    "    to_compare = [annotator,gold]\n",
    "    alphas.append(krippendorff.alpha(reliability_data=to_compare, level_of_measurement='nominal'))\n",
    "alphas = sorted(alphas, reverse=True)\n",
    "\n",
    "colors = sns.color_palette(\"Blues\")\n",
    "sns.set_style(\"whitegrid\", {'axes.grid' : False, 'axes.linewidth':0})\n",
    "\n",
    "fig = plt.figure(figsize=(8,4))\n",
    "ax = fig.add_subplot(111)\n",
    "ax = sns.barplot(x=list(range(len(alphas))), y=alphas, color=colors[3])\n",
    "ax.set(xlabel='Annotators', ylabel='Krippendorff\\'s alpha')\n",
    "line = ax.axhline(krippendorff.alpha(reliability_data=annotations,level_of_measurement='nominal'), color='black')\n",
    "\n",
    "now = datetime.now()\n",
    "import os\n",
    "path_fig = \"./results/\"+\"inter-rater_reliability_\"+now.strftime(\"%Y-%m-%d_%H-%M-%S\")+\"/\"\n",
    "if os.path.exists(path_fig) == False:\n",
    "        os.makedirs(path_fig)\n",
    "fig.savefig(path_fig + \"inter-rater-reliability.pdf\", bbox_inches='tight', dpi=300)\n",
    "fig.savefig(path_fig + \"inter-rater-reliability.png\", bbox_inches='tight', dpi=300)\n",
    "fig.savefig(path_fig + \"inter-rater-reliability.eps\", bbox_inches='tight', dpi=600)"
   ]
  },
  {
   "cell_type": "code",
   "execution_count": 5,
   "metadata": {},
   "outputs": [],
   "source": []
  },
  {
   "cell_type": "code",
   "execution_count": null,
   "metadata": {},
   "outputs": [],
   "source": []
  }
 ],
 "metadata": {
  "kernelspec": {
   "display_name": "Python 3.8.10 64-bit",
   "language": "python",
   "name": "python3"
  },
  "language_info": {
   "codemirror_mode": {
    "name": "ipython",
    "version": 3
   },
   "file_extension": ".py",
   "mimetype": "text/x-python",
   "name": "python",
   "nbconvert_exporter": "python",
   "pygments_lexer": "ipython3",
   "version": "3.8.10"
  },
  "orig_nbformat": 4,
  "vscode": {
   "interpreter": {
    "hash": "e7370f93d1d0cde622a1f8e1c04877d8463912d04d973331ad4851f04de6915a"
   }
  }
 },
 "nbformat": 4,
 "nbformat_minor": 2
}
