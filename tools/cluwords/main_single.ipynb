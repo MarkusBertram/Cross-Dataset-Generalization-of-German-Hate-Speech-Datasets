{
 "nbformat": 4,
 "nbformat_minor": 2,
 "metadata": {
  "language_info": {
   "name": "python",
   "codemirror_mode": {
    "name": "ipython",
    "version": 3
   },
   "version": "3.6.9-final"
  },
  "orig_nbformat": 2,
  "file_extension": ".py",
  "mimetype": "text/x-python",
  "name": "python",
  "npconvert_exporter": "python",
  "pygments_lexer": "ipython3",
  "version": 3,
  "kernelspec": {
   "name": "0767ce4e-6f54-4710-a220-3a162a57c141",
   "display_name": "'Python Interactive'"
  }
 },
 "cells": [
  {
   "cell_type": "code",
   "execution_count": 1,
   "metadata": {},
   "outputs": [],
   "source": [
    "from script_functions import create_embedding_models, generate_topics\n",
    "import os\n",
    "import time"
   ]
  },
  {
   "cell_type": "code",
   "execution_count": 6,
   "metadata": {},
   "outputs": [],
   "source": [
    "RUN = 'Germeval'\n",
    "### Paths and files paths\n",
    "## Main path\n",
    "ROOT = 'C:/Users/Maximilian Wich/Coding/'\n",
    "MAIN_PATH=ROOT+'alt-right-communities/cluwords'\n",
    "\n",
    "## Embeddings\n",
    "# EMBEDDINGS_FILE_PATH = '{}/GoogleNews-vectors-negative300.bin'.format(MAIN_PATH)\n",
    "# EMBEDDINGS_BIN_TYPE = True\n",
    "#EMBEDDINGS_FILE_PATH = ROOT+'_wordvectors/fasttext/crawl-300d-2M.vec'\n",
    "EMBEDDINGS_FILE_PATH = ROOT+'_wordvectors/fasttext/crawl-300d-2M.vec'\n",
    "EMBEDDINGS_BIN_TYPE = False\n",
    "\n",
    "## Dataset\n",
    "DATASETS_PATH = ROOT+'alt-right-communities/cluwords/dataset'\n",
    "# DATASETS_PATH = '/mnt/d/Work/textual_datasets'\n",
    "#DATASET = 'altrightOnlyHate'\n",
    "#DATASET = 'altrightLabeled'\n",
    "DATASET = 'germeval'\n",
    "\n",
    "## Dataset-specific w2v\n",
    "PATH_TO_SAVE_MODEL = '{}/cluwords{}/dataset/gn_w2v_models'.format(MAIN_PATH, RUN)\n",
    "\n",
    "## Class path\n",
    "CLASS_PATH = ROOT+'cluwords/acm_so_score_Pre'\n",
    "\n",
    "## Algorithm type\n",
    "# ALGORITHM_TYPE = 'knn_mahalanobis'\n",
    "ALGORITHM_TYPE = 'knn_cosine'\n",
    "\n",
    "# Create inital folders\n",
    "try:\n",
    "    os.mkdir('{}/cluwords{}'.format(MAIN_PATH, RUN))\n",
    "    os.mkdir('{}/cluwords{}/dataset'.format(MAIN_PATH, RUN))\n",
    "    os.mkdir('{}/cluwords{}/dataset/gn_w2v_models'.format(MAIN_PATH, RUN))\n",
    "except FileExistsError:\n",
    "    pass"
   ]
  },
  {
   "cell_type": "code",
   "execution_count": 7,
   "metadata": {},
   "outputs": [
    {
     "name": "stdout",
     "output_type": "stream",
     "text": "Filter embedding space to altrightOnlyHate dataset...\nEmbedding model read in 623.555s.\naltrightOnlyHate:9675\n"
    }
   ],
   "source": [
    "# Create the word2vec models for each dataset\n",
    "print('Filter embedding space to {} dataset...'.format(DATASET))\n",
    "n_words = create_embedding_models(dataset=DATASET,\n",
    "                                embedding_file_path=EMBEDDINGS_FILE_PATH,\n",
    "                                embedding_type=EMBEDDINGS_BIN_TYPE,\n",
    "                               datasets_path=DATASETS_PATH,\n",
    "                               path_to_save_model=PATH_TO_SAVE_MODEL)\n",
    "#n_words = 9675"
   ]
  },
  {
   "cell_type": "code",
   "execution_count": 8,
   "metadata": {},
   "outputs": [
    {
     "name": "stdout",
     "output_type": "stream",
     "text": "Number of classes: 4\nBuild topics...\nkNN...\nN Threads: 6\nNearestNeighbors K=500\nTime 0.00502270000106364\nNN Distaces\nTime 6.545874299999923\nSaving cluwords\nMatrix(9675, 9675)\n\nCosine Filter: 0.9\nComputing TFIDF...\nNumber of cluwords 9675\nMatrix(9675, 9675)\n\nComputing TF...\ntf shape (1438, 9675)\nCluwords TF done in 1.546s.\n(1438, 9675)\n\nFitting the NMF model (Frobenius norm) with tf-idf features, n_samples=1438 and n_features=9675...\nNMF done in 14.641528899999685.\nWriting matrix W\nW: (1438, 4) H:(9675, 4)\nWriting matrix H\nW: (1438, 4) H:(9675, 4)\nC:/Users/Maximilian Wich/Coding/alt-right-communities/cluwords/cluwords6Hate/fasttext_crawl_4/results/altrightOnlyHate\nNumber of classes: 4\n##################################\nNone\nNumber of classes: 5\nBuild topics...\nkNN...\nN Threads: 6\nNearestNeighbors K=500\nTime 0.004388599998492282\nNN Distaces\nTime 6.411863199999061\nSaving cluwords\nMatrix(9675, 9675)\n\nCosine Filter: 0.9\nComputing TFIDF...\nNumber of cluwords 9675\nMatrix(9675, 9675)\n\nComputing TF...\ntf shape (1438, 9675)\nCluwords TF done in 1.617s.\n(1438, 9675)\n\nFitting the NMF model (Frobenius norm) with tf-idf features, n_samples=1438 and n_features=9675...\nNMF done in 17.650371199999427.\nWriting matrix W\nW: (1438, 5) H:(9675, 5)\nWriting matrix H\nW: (1438, 5) H:(9675, 5)\nC:/Users/Maximilian Wich/Coding/alt-right-communities/cluwords/cluwords6Hate/fasttext_crawl_5/results/altrightOnlyHate\nNumber of classes: 5\n##################################\nNone\nNumber of classes: 6\nBuild topics...\nkNN...\nN Threads: 6\nNearestNeighbors K=500\nTime 0.005331099999239086\nNN Distaces\nTime 7.084944000000178\nSaving cluwords\nMatrix(9675, 9675)\n\nCosine Filter: 0.9\nComputing TFIDF...\nNumber of cluwords 9675\nMatrix(9675, 9675)\n\nComputing TF...\ntf shape (1438, 9675)\nCluwords TF done in 1.646s.\n(1438, 9675)\n\nFitting the NMF model (Frobenius norm) with tf-idf features, n_samples=1438 and n_features=9675...\nNMF done in 20.6122407999992.\nWriting matrix W\nW: (1438, 6) H:(9675, 6)\nWriting matrix H\nW: (1438, 6) H:(9675, 6)\nC:/Users/Maximilian Wich/Coding/alt-right-communities/cluwords/cluwords6Hate/fasttext_crawl_6/results/altrightOnlyHate\nNumber of classes: 6\n##################################\nNone\nNumber of classes: 7\nBuild topics...\nkNN...\nN Threads: 6\nNearestNeighbors K=500\nTime 0.004906099999061553\nNN Distaces\nTime 6.720449700000245\nSaving cluwords\nMatrix(9675, 9675)\n\nCosine Filter: 0.9\nComputing TFIDF...\nNumber of cluwords 9675\nMatrix(9675, 9675)\n\nComputing TF...\ntf shape (1438, 9675)\nCluwords TF done in 1.606s.\n(1438, 9675)\n\nFitting the NMF model (Frobenius norm) with tf-idf features, n_samples=1438 and n_features=9675...\nNMF done in 22.299983000000793.\nWriting matrix W\nW: (1438, 7) H:(9675, 7)\nWriting matrix H\nW: (1438, 7) H:(9675, 7)\nC:/Users/Maximilian Wich/Coding/alt-right-communities/cluwords/cluwords6Hate/fasttext_crawl_7/results/altrightOnlyHate\nNumber of classes: 7\n##################################\nNone\nNumber of classes: 8\nBuild topics...\nkNN...\nN Threads: 6\nNearestNeighbors K=500\nTime 0.0044744000006176066\nNN Distaces\nTime 7.294138799999928\nSaving cluwords\nMatrix(9675, 9675)\n\nCosine Filter: 0.9\nComputing TFIDF...\nNumber of cluwords 9675\nMatrix(9675, 9675)\n\nComputing TF...\ntf shape (1438, 9675)\nCluwords TF done in 1.512s.\n(1438, 9675)\n\nFitting the NMF model (Frobenius norm) with tf-idf features, n_samples=1438 and n_features=9675...\nNMF done in 19.773140799999965.\nWriting matrix W\nW: (1438, 8) H:(9675, 8)\nWriting matrix H\nW: (1438, 8) H:(9675, 8)\nC:/Users/Maximilian Wich/Coding/alt-right-communities/cluwords/cluwords6Hate/fasttext_crawl_8/results/altrightOnlyHate\nNumber of classes: 8\n##################################\nNone\nNumber of classes: 9\nBuild topics...\nkNN...\nN Threads: 6\nNearestNeighbors K=500\nTime 0.003933500000130152\nNN Distaces\nTime 12.188708800000313\nSaving cluwords\nMatrix(9675, 9675)\n\nCosine Filter: 0.9\nComputing TFIDF...\nNumber of cluwords 9675\nMatrix(9675, 9675)\n\nComputing TF...\ntf shape (1438, 9675)\nCluwords TF done in 1.596s.\n(1438, 9675)\n\nFitting the NMF model (Frobenius norm) with tf-idf features, n_samples=1438 and n_features=9675...\nNMF done in 24.607993699999497.\nWriting matrix W\nW: (1438, 9) H:(9675, 9)\nWriting matrix H\nW: (1438, 9) H:(9675, 9)\nC:/Users/Maximilian Wich/Coding/alt-right-communities/cluwords/cluwords6Hate/fasttext_crawl_9/results/altrightOnlyHate\nNumber of classes: 9\n##################################\nNone\nNumber of classes: 10\nBuild topics...\nkNN...\nN Threads: 6\nNearestNeighbors K=500\nTime 0.004890299998805858\nNN Distaces\nTime 8.249372300000687\nSaving cluwords\nMatrix(9675, 9675)\n\nCosine Filter: 0.9\nComputing TFIDF...\nNumber of cluwords 9675\nMatrix(9675, 9675)\n\nComputing TF...\ntf shape (1438, 9675)\nCluwords TF done in 1.481s.\n(1438, 9675)\n\nFitting the NMF model (Frobenius norm) with tf-idf features, n_samples=1438 and n_features=9675...\nNMF done in 24.086323900002753.\nWriting matrix W\nW: (1438, 10) H:(9675, 10)\nWriting matrix H\nW: (1438, 10) H:(9675, 10)\nC:/Users/Maximilian Wich/Coding/alt-right-communities/cluwords/cluwords6Hate/fasttext_crawl_10/results/altrightOnlyHate\nNumber of classes: 10\n##################################\nNone\nNumber of classes: 11\nBuild topics...\nkNN...\nN Threads: 6\nNearestNeighbors K=500\nTime 0.0045196999999461696\nNN Distaces\nTime 6.209234199999628\nSaving cluwords\nMatrix(9675, 9675)\n\nCosine Filter: 0.9\nComputing TFIDF...\nNumber of cluwords 9675\nMatrix(9675, 9675)\n\nComputing TF...\ntf shape (1438, 9675)\nCluwords TF done in 1.462s.\n(1438, 9675)\n\nFitting the NMF model (Frobenius norm) with tf-idf features, n_samples=1438 and n_features=9675...\nNMF done in 25.04767129999891.\nWriting matrix W\nW: (1438, 11) H:(9675, 11)\nWriting matrix H\nW: (1438, 11) H:(9675, 11)\nC:/Users/Maximilian Wich/Coding/alt-right-communities/cluwords/cluwords6Hate/fasttext_crawl_11/results/altrightOnlyHate\nNumber of classes: 11\n##################################\nNone\nNumber of classes: 12\nBuild topics...\nkNN...\nN Threads: 6\nNearestNeighbors K=500\nTime 0.0038810999976703897\nNN Distaces\nTime 5.9771098000019265\nSaving cluwords\nMatrix(9675, 9675)\n\nCosine Filter: 0.9\nComputing TFIDF...\nNumber of cluwords 9675\nMatrix(9675, 9675)\n\nComputing TF...\ntf shape (1438, 9675)\nCluwords TF done in 1.425s.\n(1438, 9675)\n\nFitting the NMF model (Frobenius norm) with tf-idf features, n_samples=1438 and n_features=9675...\nNMF done in 23.818279099999927.\nWriting matrix W\nW: (1438, 12) H:(9675, 12)\nWriting matrix H\nW: (1438, 12) H:(9675, 12)\nC:/Users/Maximilian Wich/Coding/alt-right-communities/cluwords/cluwords6Hate/fasttext_crawl_12/results/altrightOnlyHate\nNumber of classes: 12\n##################################\nNone\nNumber of classes: 13\nBuild topics...\nkNN...\nN Threads: 6\nNearestNeighbors K=500\nTime 0.004081499999301741\nNN Distaces\nTime 5.716323299999203\nSaving cluwords\nMatrix(9675, 9675)\n\nCosine Filter: 0.9\nComputing TFIDF...\nNumber of cluwords 9675\nMatrix(9675, 9675)\n\nComputing TF...\ntf shape (1438, 9675)\nCluwords TF done in 1.507s.\n(1438, 9675)\n\nFitting the NMF model (Frobenius norm) with tf-idf features, n_samples=1438 and n_features=9675...\nNMF done in 26.706668899998476.\nWriting matrix W\nW: (1438, 13) H:(9675, 13)\nWriting matrix H\nW: (1438, 13) H:(9675, 13)\nC:/Users/Maximilian Wich/Coding/alt-right-communities/cluwords/cluwords6Hate/fasttext_crawl_13/results/altrightOnlyHate\nNumber of classes: 13\n##################################\nNone\nNumber of classes: 14\nBuild topics...\nkNN...\nN Threads: 6\nNearestNeighbors K=500\nTime 0.004318200000852812\nNN Distaces\nTime 6.560665900000458\nSaving cluwords\nMatrix(9675, 9675)\n\nCosine Filter: 0.9\nComputing TFIDF...\nNumber of cluwords 9675\nMatrix(9675, 9675)\n\nComputing TF...\ntf shape (1438, 9675)\nCluwords TF done in 1.623s.\n(1438, 9675)\n\nFitting the NMF model (Frobenius norm) with tf-idf features, n_samples=1438 and n_features=9675...\nNMF done in 32.221019000000524.\nWriting matrix W\nW: (1438, 14) H:(9675, 14)\nWriting matrix H\nW: (1438, 14) H:(9675, 14)\nC:/Users/Maximilian Wich/Coding/alt-right-communities/cluwords/cluwords6Hate/fasttext_crawl_14/results/altrightOnlyHate\nNumber of classes: 14\n##################################\nNone\nNumber of classes: 15\nBuild topics...\nkNN...\nN Threads: 6\nNearestNeighbors K=500\nTime 0.004157499999564607\nNN Distaces\nTime 6.3506626000016695\nSaving cluwords\nMatrix(9675, 9675)\n\nCosine Filter: 0.9\nComputing TFIDF...\nNumber of cluwords 9675\nMatrix(9675, 9675)\n\nComputing TF...\ntf shape (1438, 9675)\nCluwords TF done in 1.563s.\n(1438, 9675)\n\nFitting the NMF model (Frobenius norm) with tf-idf features, n_samples=1438 and n_features=9675...\nNMF done in 34.51958659999946.\nWriting matrix W\nW: (1438, 15) H:(9675, 15)\nWriting matrix H\nW: (1438, 15) H:(9675, 15)\nC:/Users/Maximilian Wich/Coding/alt-right-communities/cluwords/cluwords6Hate/fasttext_crawl_15/results/altrightOnlyHate\nNumber of classes: 15\n##################################\nNone\nNumber of classes: 16\nBuild topics...\nkNN...\nN Threads: 6\nNearestNeighbors K=500\nTime 0.004127100000914652\nNN Distaces\nTime 6.536028599999554\nSaving cluwords\nMatrix(9675, 9675)\n\nCosine Filter: 0.9\nComputing TFIDF...\nNumber of cluwords 9675\nMatrix(9675, 9675)\n\nComputing TF...\ntf shape (1438, 9675)\nCluwords TF done in 1.535s.\n(1438, 9675)\n\nFitting the NMF model (Frobenius norm) with tf-idf features, n_samples=1438 and n_features=9675...\nNMF done in 32.78905250000025.\nWriting matrix W\nW: (1438, 16) H:(9675, 16)\nWriting matrix H\nW: (1438, 16) H:(9675, 16)\nC:/Users/Maximilian Wich/Coding/alt-right-communities/cluwords/cluwords6Hate/fasttext_crawl_16/results/altrightOnlyHate\nNumber of classes: 16\n##################################\nNone\nNumber of classes: 17\nBuild topics...\nkNN...\nN Threads: 6\nNearestNeighbors K=500\nTime 0.004826600001251791\nNN Distaces\nTime 8.496335999996518\nSaving cluwords\nMatrix(9675, 9675)\n\nCosine Filter: 0.9\nComputing TFIDF...\nNumber of cluwords 9675\nMatrix(9675, 9675)\n\nComputing TF...\ntf shape (1438, 9675)\nCluwords TF done in 2.008s.\n(1438, 9675)\n\nFitting the NMF model (Frobenius norm) with tf-idf features, n_samples=1438 and n_features=9675...\nNMF done in 46.061200899999676.\nWriting matrix W\nW: (1438, 17) H:(9675, 17)\nWriting matrix H\nW: (1438, 17) H:(9675, 17)\nC:/Users/Maximilian Wich/Coding/alt-right-communities/cluwords/cluwords6Hate/fasttext_crawl_17/results/altrightOnlyHate\nNumber of classes: 17\n##################################\nNone\nNumber of classes: 18\nBuild topics...\nkNN...\nN Threads: 6\nNearestNeighbors K=500\nTime 0.0045792999990226235\nNN Distaces\nTime 6.362891000000673\nSaving cluwords\nMatrix(9675, 9675)\n\nCosine Filter: 0.9\nComputing TFIDF...\nNumber of cluwords 9675\nMatrix(9675, 9675)\n\nComputing TF...\ntf shape (1438, 9675)\nCluwords TF done in 1.665s.\n(1438, 9675)\n\nFitting the NMF model (Frobenius norm) with tf-idf features, n_samples=1438 and n_features=9675...\nNMF done in 37.2400791.\nWriting matrix W\nW: (1438, 18) H:(9675, 18)\nWriting matrix H\nW: (1438, 18) H:(9675, 18)\nC:/Users/Maximilian Wich/Coding/alt-right-communities/cluwords/cluwords6Hate/fasttext_crawl_18/results/altrightOnlyHate\nNumber of classes: 18\n##################################\nNone\nNumber of classes: 19\nBuild topics...\nkNN...\nN Threads: 6\nNearestNeighbors K=500\nTime 0.004792899999301881\nNN Distaces\nTime 6.443349600001966\nSaving cluwords\nMatrix(9675, 9675)\n\nCosine Filter: 0.9\nComputing TFIDF...\nNumber of cluwords 9675\nMatrix(9675, 9675)\n\nComputing TF...\ntf shape (1438, 9675)\nCluwords TF done in 1.760s.\n(1438, 9675)\n\nFitting the NMF model (Frobenius norm) with tf-idf features, n_samples=1438 and n_features=9675...\nNMF done in 43.9774436000007.\nWriting matrix W\nW: (1438, 19) H:(9675, 19)\nWriting matrix H\nW: (1438, 19) H:(9675, 19)\nC:/Users/Maximilian Wich/Coding/alt-right-communities/cluwords/cluwords6Hate/fasttext_crawl_19/results/altrightOnlyHate\nNumber of classes: 19\n##################################\nNone\n"
    }
   ],
   "source": [
    "for k in range(20,10):\n",
    "    # EMBEDDING_RESULTS = 'fasttext_wiki_mahalanobis'\n",
    "    #EMBEDDING_RESULTS = 'fasttext_wiki'\n",
    "    EMBEDDING_RESULTS = 'fasttext_crawl_'+str(k)\n",
    "    PATH_TO_SAVE_RESULTS = '{}/cluwords{}/{}/results'.format(MAIN_PATH, RUN, EMBEDDING_RESULTS)\n",
    "    HAS_CLASS = False\n",
    "    N_THREADS = 6\n",
    "    N_COMPONENTS = k\n",
    "\n",
    "    # Creates directories if they don't exist\n",
    "    try:\n",
    "        os.mkdir('{}/cluwords{}/{}'.format(MAIN_PATH, RUN, EMBEDDING_RESULTS))\n",
    "        os.mkdir('{}/cluwords{}/{}/results'.format(MAIN_PATH, RUN, EMBEDDING_RESULTS))\n",
    "    except FileExistsError:\n",
    "        pass\n",
    "\n",
    "    # Create the word2vec models for each dataset\n",
    "\n",
    "\n",
    "    print('Number of classes:', str(k))\n",
    "    print('Build topics...')\n",
    "    results = generate_topics(dataset=DATASET,\n",
    "                            word_count=n_words,\n",
    "                            path_to_save_model=PATH_TO_SAVE_MODEL,\n",
    "                            datasets_path=DATASETS_PATH,\n",
    "                            path_to_save_results=PATH_TO_SAVE_RESULTS,\n",
    "                            n_threads=N_THREADS,\n",
    "                            algorithm_type=ALGORITHM_TYPE,\n",
    "                            # k=n_words,\n",
    "                            k=500,\n",
    "                            threshold=0.3,\n",
    "                            #threshold=0.4,\n",
    "                            cossine_filter=0.9,\n",
    "                            class_path=CLASS_PATH,\n",
    "                            has_class=HAS_CLASS,\n",
    "                            n_components=N_COMPONENTS)\n",
    "    print('Number of classes:', str(k))\n",
    "    print(\"##################################\")\n",
    "    print(results)\n"
   ]
  },
  {
   "cell_type": "code",
   "execution_count": 9,
   "metadata": {},
   "outputs": [
    {
     "name": "stdout",
     "output_type": "stream",
     "text": "[7 6 6]\n"
    }
   ],
   "source": [
    "import numpy as np\n",
    "\n",
    "arr1 = np.array([1,2,5])\n",
    "arr2 = np.array([6,4,1])\n",
    "\n",
    "print(arr1 + arr2)"
   ]
  },
  {
   "cell_type": "code",
   "execution_count": 21,
   "metadata": {},
   "outputs": [
    {
     "name": "stdout",
     "output_type": "stream",
     "text": "2.9626971546089305\n"
    }
   ],
   "source": [
    "def getMatrixW():\n",
    "    W = np.array([])\n",
    "    filename= r'C:\\Users\\Maximilian Wich\\Coding\\alt-right-communities\\cluwords\\cluwords0.01\\fasttext_crawl_10\\results\\altright\\matrix_h.txt'\n",
    "    linelist = [line.rstrip('\\n') for line in open(filename)]\n",
    "    i = 0\n",
    "    for line in linelist:\n",
    "        W = np.append(W, np.array([float(x) for x in line.split()]))\n",
    "        i = i +1\n",
    "        if i > 5:\n",
    "            break\n",
    "    return W\n",
    "\n",
    "print(getMatrixW())\n",
    "\n"
   ]
  },
  {
   "cell_type": "code",
   "execution_count": 25,
   "metadata": {},
   "outputs": [
    {
     "name": "stdout",
     "output_type": "stream",
     "text": "(9675, 10)\n[0.         2.96269715 0.         0.         0.20891605 0.27294605\n 0.         0.         0.         0.        ]\n"
    }
   ],
   "source": [
    "filename= r'C:\\Users\\Maximilian Wich\\Coding\\alt-right-communities\\cluwords\\cluwords0.01\\fasttext_crawl_10\\results\\altright\\matrix_h.txt'\n",
    "new_data = np.loadtxt(filename)\n",
    "print(new_data.shape)\n",
    "\n",
    "print(new_data[0])"
   ]
  },
  {
   "cell_type": "code",
   "execution_count": 29,
   "metadata": {},
   "outputs": [
    {
     "name": "stdout",
     "output_type": "stream",
     "text": "9675\naan\nabandoning\n"
    }
   ],
   "source": [
    "paths = r'C:\\Users\\Maximilian Wich\\Coding\\alt-right-communities\\cluwords\\cluwords0.01\\dataset\\gn_w2v_models\\altright.txt'\n",
    "\n",
    "wordindex = []\n",
    "with open(paths) as f:\n",
    "    lines = (line for line in f)\n",
    "    for line in lines:\n",
    "        words = line.split(\" \")\n",
    "        wordindex.append(words[0])\n",
    "print(wordindex[0])\n",
    "print(wordindex[1])\n",
    "print(wordindex[2])"
   ]
  },
  {
   "cell_type": "code",
   "execution_count": 52,
   "metadata": {},
   "outputs": [],
   "source": [
    "def getWordIndex():\n",
    "    paths = r'C:\\Users\\Maximilian Wich\\Coding\\alt-right-communities\\cluwords\\cluwords0.01\\dataset\\gn_w2v_models\\altright.txt'\n",
    "\n",
    "    wordindex = []\n",
    "    with open(paths) as f:\n",
    "        lines = (line for line in f)\n",
    "        for line in lines:\n",
    "            words = line.split(\" \")\n",
    "            wordindex.append(words[0])\n",
    "\n",
    "    return wordindex[1:]\n",
    "\n",
    "def getMatrixH():\n",
    "    filename= r'C:\\Users\\Maximilian Wich\\Coding\\alt-right-communities\\cluwords\\cluwords0.01\\fasttext_crawl_10\\results\\altright\\matrix_h.txt'\n",
    "    matrix = np.loadtxt(filename, dtype = np.float64)\n",
    "    return matrix\n",
    "\n",
    "# get index of word\n",
    "def getIndexOfWord(word, wordIndex):\n",
    "    for i in range(0,len(wordIndex)):\n",
    "        if wordIndex[i]  == word:\n",
    "            return i\n",
    "    return -1\n",
    "\n",
    "\n",
    "# get score of word\n",
    "def getScoreOfWord(word, wordIndex, matrixH):\n",
    "    print(word)\n",
    "    indexOfWord = getIndexOfWord(word,wordIndex)\n",
    "    print(indexOfWord)\n",
    "    #print(\"Index of Word\", word, indexOfWord)\n",
    "    if indexOfWord == -1:\n",
    "        return 0\n",
    "    else:\n",
    "        return matrixH[indexOfWord]\n",
    "\n",
    "\n",
    "def getScoreOfText(text, wordIndex, matrixH, n_topics):\n",
    "    print(\"Len WordIndex:\", len(wordIndex))\n",
    "    print(\"Len H:\", len(matrixH))\n",
    "    words = text.split(\" \")\n",
    "    score = np.zeros(n_topics)\n",
    "    for word in words:\n",
    "        wordScore =  getScoreOfWord(word, wordIndex, matrixH) \n",
    "        print(\"Score of Word\", word, wordScore)\n",
    "        if isinstance(wordScore, (np.ndarray, np.generic) ):\n",
    "            score = score + wordScore\n",
    "            #print(word, \"|\", score)\n",
    "        else:\n",
    "            continue\n",
    "    return score "
   ]
  },
  {
   "cell_type": "code",
   "execution_count": 54,
   "metadata": {},
   "outputs": [
    {
     "name": "stdout",
     "output_type": "stream",
     "text": "-------------------------------------\nLen WordIndex: 9675\nLen H: 9675\noh\n5975\nScore of Word oh [0.09173744 0.10424835 0.47960562 0.7917881  0.00624918 0.05280581\n 0.04363811 0.         0.07598269 0.26018126]\npesky\n6341\nScore of Word pesky [0.03655743 0.00180023 0.10811871 0.04397409 0.         0.\n 0.08456054 0.13898414 0.         0.01832733]\nconstruction\n1705\nScore of Word construction [0.         0.02791592 0.11030246 0.00941512 0.         0.\n 0.02252173 0.06477693 0.04087648 0.03598851]\nworkers\n9541\nScore of Word workers [0.         0.         0.25039597 0.06808596 0.04490573 0.0121665\n 0.20510315 0.37283213 0.55864336 0.        ]\naccidents\n48\nScore of Word accidents [0.         0.         0.065943   0.         0.         0.\n 0.03649504 0.3829242  0.04948028 0.0151036 ]\n0.1282948660697626\n"
    }
   ],
   "source": [
    "wordIndex = getWordIndex()\n",
    "matrixH = getMatrixH()\n",
    "n_topics = 10\n",
    "text = 'oh pesky construction workers accidents'\n",
    "print(\"-------------------------------------\")\n",
    "print(getScoreOfText(text, wordIndex, matrixH,n_topics))"
   ]
  },
  {
   "cell_type": "code",
   "execution_count": null,
   "metadata": {},
   "outputs": [],
   "source": []
  }
 ]
}