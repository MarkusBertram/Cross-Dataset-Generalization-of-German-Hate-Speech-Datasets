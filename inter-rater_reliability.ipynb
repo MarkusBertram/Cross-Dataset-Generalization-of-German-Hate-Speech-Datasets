{
 "cells": [
  {
   "cell_type": "code",
   "execution_count": 3,
   "metadata": {},
   "outputs": [],
   "source": [
    "import pandas as pd\n",
    "import numpy as np\n",
    "import krippendorff\n",
    "import seaborn as sns\n",
    "import matplotlib.pyplot as plt\n",
    "import yaml\n",
    "import json\n",
    "import csv\n",
    "from pathlib import Path\n",
    "from datetime import datetime\n",
    "sns.set_style(\"whitegrid\", {'axes.grid' : False, 'axes.linewidth':0})"
   ]
  },
  {
   "cell_type": "markdown",
   "metadata": {},
   "source": [
    "## IWG Hate Speech Dataset"
   ]
  },
  {
   "cell_type": "code",
   "execution_count": 61,
   "metadata": {},
   "outputs": [],
   "source": [
    "#data_path = Path(__file__).resolve().parents[1] / 'data' / 'iwg_hatespeech_public' / \"german hatespeech refugees.csv\"\n",
    "data_path = \"data/iwg_hatespeech_public/german hatespeech refugees.csv\""
   ]
  },
  {
   "cell_type": "code",
   "execution_count": 62,
   "metadata": {},
   "outputs": [],
   "source": [
    "data_df = pd.read_csv(data_path, usecols = [1,2])"
   ]
  },
  {
   "cell_type": "code",
   "execution_count": 63,
   "metadata": {},
   "outputs": [],
   "source": [
    "reliability_data = data_df.T.to_numpy(dtype = np.dtype('U'))"
   ]
  },
  {
   "cell_type": "code",
   "execution_count": 65,
   "metadata": {},
   "outputs": [
    {
     "name": "stdout",
     "output_type": "stream",
     "text": [
      "Krippendorff's alpha for nominal metric:  0.38290305584826134\n"
     ]
    }
   ],
   "source": [
    "print(\"Krippendorff's alpha for nominal metric: \", krippendorff.alpha(reliability_data=reliability_data, level_of_measurement = \"nominal\"))"
   ]
  },
  {
   "cell_type": "markdown",
   "metadata": {},
   "source": [
    "## Telegram HS Dataset"
   ]
  },
  {
   "cell_type": "code",
   "execution_count": 217,
   "metadata": {},
   "outputs": [],
   "source": [
    "data_path = \"data/telegram/annotated_dataset.txt\""
   ]
  },
  {
   "cell_type": "code",
   "execution_count": 218,
   "metadata": {},
   "outputs": [],
   "source": [
    "with open(data_path, 'r') as f:\n",
    "    data_json = json.load(f)"
   ]
  },
  {
   "cell_type": "code",
   "execution_count": 219,
   "metadata": {},
   "outputs": [],
   "source": [
    "annotation_list = []\n",
    "gold_np = []\n",
    "for entry in data_json[\"messages\"]:\n",
    "    annotation_list.append(entry[\"raw_annotations\"])\n",
    "    gold_np.append(entry[\"gold_label\"])"
   ]
  },
  {
   "cell_type": "code",
   "execution_count": 220,
   "metadata": {},
   "outputs": [],
   "source": [
    "mapping = {\"NEUTRAL\" : 0.0, \"OFFENSIVE_ABUSIVE\": 1.0, np.nan : np.nan}"
   ]
  },
  {
   "cell_type": "code",
   "execution_count": 221,
   "metadata": {},
   "outputs": [],
   "source": [
    "annotations_np = pd.DataFrame(annotation_list).T.values.tolist()"
   ]
  },
  {
   "cell_type": "code",
   "execution_count": 222,
   "metadata": {},
   "outputs": [],
   "source": [
    "annotations = []\n",
    "for i in range(len(annotations_np)):\n",
    "    annotator = []\n",
    "    for j in range(len(annotations_np[0])):\n",
    "        annotator.append(mapping[annotations_np[i][j]])\n",
    "    annotations.append(annotator)"
   ]
  },
  {
   "cell_type": "code",
   "execution_count": 223,
   "metadata": {},
   "outputs": [
    {
     "name": "stdout",
     "output_type": "stream",
     "text": [
      "Krippendorff's alpha for nominal metric:  0.7387221322705193\n"
     ]
    }
   ],
   "source": [
    "print(\"Krippendorff's alpha for nominal metric: \", krippendorff.alpha(reliability_data=annotations, level_of_measurement = \"nominal\"))"
   ]
  },
  {
   "cell_type": "code",
   "execution_count": 224,
   "metadata": {},
   "outputs": [],
   "source": [
    "gold = []\n",
    "for i in range(len(gold_np)):\n",
    "    gold.append(mapping[gold_np[i]])"
   ]
  },
  {
   "cell_type": "code",
   "execution_count": 225,
   "metadata": {},
   "outputs": [
    {
     "name": "stderr",
     "output_type": "stream",
     "text": [
      "/home/markus/.local/lib/python3.8/site-packages/krippendorff/krippendorff.py:297: RuntimeWarning: invalid value encountered in double_scalars\n",
      "  return 1 - (o * d).sum() / (e * d).sum()\n"
     ]
    }
   ],
   "source": [
    "alphas = []\n",
    "for annotator in annotations:\n",
    "    to_compare = [annotator,gold]\n",
    "    alphas.append(krippendorff.alpha(reliability_data=to_compare, level_of_measurement='nominal'))"
   ]
  },
  {
   "cell_type": "code",
   "execution_count": 231,
   "metadata": {},
   "outputs": [],
   "source": [
    "alphas = sorted(alphas, reverse=True)"
   ]
  },
  {
   "cell_type": "code",
   "execution_count": 232,
   "metadata": {},
   "outputs": [
    {
     "data": {
      "text/plain": [
       "[0.9635003306878307,\n",
       " 0.8969422423556059,\n",
       " 0.8950170947325045,\n",
       " 0.8498684210526316,\n",
       " 0.7732326627708538,\n",
       " nan]"
      ]
     },
     "execution_count": 232,
     "metadata": {},
     "output_type": "execute_result"
    }
   ],
   "source": [
    "alphas"
   ]
  },
  {
   "cell_type": "code",
   "execution_count": 236,
   "metadata": {},
   "outputs": [],
   "source": [
    "# remove annotator_6\n",
    "alphas = alphas[:5]"
   ]
  },
  {
   "cell_type": "code",
   "execution_count": 238,
   "metadata": {},
   "outputs": [
    {
     "data": {
      "image/png": "[encoded data removed]",
      "text/plain": [
       "<Figure size 576x288 with 1 Axes>"
      ]
     },
     "metadata": {},
     "output_type": "display_data"
    }
   ],
   "source": [
    "import matplotlib.pyplot as plt\n",
    "import seaborn as sns\n",
    "from time import gmtime, strftime\n",
    "\n",
    "colors = sns.color_palette(\"Blues\")\n",
    "sns.set_style(\"whitegrid\", {'axes.grid' : False, 'axes.linewidth':0})\n",
    "\n",
    "fig = plt.figure(figsize=(8,4))\n",
    "ax = fig.add_subplot(111)\n",
    "ax = sns.barplot(x=list(range(len(alphas))), y=alphas, color=colors[3])\n",
    "ax.set(xlabel='Annotators', ylabel='Krippendorff\\'s alpha')\n",
    "line = ax.axhline(krippendorff.alpha(reliability_data=annotations,level_of_measurement='nominal'), color='black')"
   ]
  },
  {
   "cell_type": "code",
   "execution_count": 239,
   "metadata": {},
   "outputs": [],
   "source": [
    "now = datetime.now()\n",
    "import os\n",
    "path_fig = \"./framework_results/\"+\"inter-rater_reliability_\"+now.strftime(\"%Y-%m-%d_%H-%M-%S\")+\"/\"\n",
    "if os.path.exists(path_fig) == False:\n",
    "        os.makedirs(path_fig)\n",
    "fig.savefig(path_fig + \"inter-rater-reliability.pdf\", bbox_inches='tight', dpi=300)\n",
    "fig.savefig(path_fig + \"inter-rater-reliability.png\", bbox_inches='tight', dpi=300)\n",
    "fig.savefig(path_fig + \"inter-rater-reliability.eps\", bbox_inches='tight', dpi=600)"
   ]
  },
  {
   "cell_type": "code",
   "execution_count": null,
   "metadata": {},
   "outputs": [],
   "source": []
  }
 ],
 "metadata": {
  "interpreter": {
   "hash": "916dbcbb3f70747c44a77c7bcd40155683ae19c65e1c03b4aa3499c5328201f1"
  },
  "kernelspec": {
   "display_name": "Python 3.8.2 64-bit",
   "language": "python",
   "name": "python3"
  },
  "language_info": {
   "codemirror_mode": {
    "name": "ipython",
    "version": 3
   },
   "file_extension": ".py",
   "mimetype": "text/x-python",
   "name": "python",
   "nbconvert_exporter": "python",
   "pygments_lexer": "ipython3",
   "version": "3.8.10"
  },
  "orig_nbformat": 4
 },
 "nbformat": 4,
 "nbformat_minor": 2
}
