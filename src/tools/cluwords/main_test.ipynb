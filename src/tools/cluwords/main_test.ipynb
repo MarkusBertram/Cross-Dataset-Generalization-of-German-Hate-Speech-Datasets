{
 "nbformat": 4,
 "nbformat_minor": 2,
 "metadata": {
  "language_info": {
   "name": "python",
   "codemirror_mode": {
    "name": "ipython",
    "version": 3
   }
  },
  "orig_nbformat": 2,
  "file_extension": ".py",
  "mimetype": "text/x-python",
  "name": "python",
  "npconvert_exporter": "python",
  "pygments_lexer": "ipython3",
  "version": 3
 },
 "cells": [
  {
   "cell_type": "code",
   "execution_count": null,
   "metadata": {},
   "outputs": [],
   "source": [
    "import numpy as np"
   ]
  },
  {
   "cell_type": "code",
   "execution_count": null,
   "metadata": {},
   "outputs": [],
   "source": [
    "def getWordIndex():\n",
    "    paths = r'C:\\Users\\Maximilian Wich\\Coding\\alt-right-communities\\cluwords\\cluwords0.01\\dataset\\gn_w2v_models\\altright.txt'\n",
    "\n",
    "    wordindex = []\n",
    "    with open(paths) as f:\n",
    "        lines = (line for line in f)\n",
    "        for line in lines:\n",
    "            words = line.split(\" \")\n",
    "            wordindex.append(words[0])\n",
    "\n",
    "    return wordindex[1:]\n",
    "\n",
    "def getMatrixH():\n",
    "    filename= r'C:\\Users\\Maximilian Wich\\Coding\\alt-right-communities\\cluwords\\cluwords0.01\\fasttext_crawl_10\\results\\altright\\matrix_h.txt'\n",
    "    matrix = np.loadtxt(filename, dtype = np.float64)\n",
    "    return matrix\n",
    "\n",
    "# get index of word\n",
    "def getIndexOfWord(word, wordIndex):\n",
    "    for i in range(0,len(wordIndex)):\n",
    "        if wordIndex[i]  == word:\n",
    "            return i\n",
    "    return -1\n",
    "\n",
    "\n",
    "# get score of word\n",
    "def getScoreOfWord(word, wordIndex, matrixH):\n",
    "    print(word)\n",
    "    indexOfWord = getIndexOfWord(word,wordIndex)\n",
    "    print(indexOfWord)\n",
    "    #print(\"Index of Word\", word, indexOfWord)\n",
    "    if indexOfWord == -1:\n",
    "        return 0\n",
    "    else:\n",
    "        return matrixH[indexOfWord]\n",
    "\n",
    "\n",
    "def getScoreOfText(text, wordIndex, matrixH, n_topics):\n",
    "    print(\"Len WordIndex:\", len(wordIndex))\n",
    "    print(\"Len H:\", len(matrixH))\n",
    "    words = text.split(\" \")\n",
    "    score = np.zeros(n_topics)\n",
    "    for word in words:\n",
    "        wordScore =  getScoreOfWord(word, wordIndex, matrixH) \n",
    "        print(\"Score of Word\", word, wordScore)\n",
    "        if isinstance(wordScore, (np.ndarray, np.generic) ):\n",
    "            score = score + wordScore\n",
    "            #print(word, \"|\", score)\n",
    "        else:\n",
    "            continue\n",
    "    return score "
   ]
  },
  {
   "cell_type": "code",
   "execution_count": null,
   "metadata": {},
   "outputs": [],
   "source": [
    "wordIndex = getWordIndex()\n",
    "matrixH = getMatrixH()\n",
    "n_topics = 10\n",
    "text = 'oh pesky construction workers accidents'\n",
    "print(\"-------------------------------------\")\n",
    "print(getScoreOfText(text, wordIndex, matrixH,n_topics))"
   ]
  }
 ]
}